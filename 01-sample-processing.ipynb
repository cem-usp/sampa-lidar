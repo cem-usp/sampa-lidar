{
 "cells": [
  {
   "cell_type": "code",
   "execution_count": 3,
   "metadata": {},
   "outputs": [],
   "source": [
    "import pandas as pd\n",
    "import pdal\n",
    "import json\n",
    "import geopandas as gpd\n",
    "import numpy as np"
   ]
  },
  {
   "cell_type": "code",
   "execution_count": 4,
   "metadata": {},
   "outputs": [],
   "source": [
    "gdf_articulacao = gpd.read_file(\"zip://data/SIRGAS_SHP_quadriculamdt.zip!/SIRGAS_SHP_quadriculamdt/\")"
   ]
  },
  {
   "cell_type": "code",
   "execution_count": 5,
   "metadata": {},
   "outputs": [
    {
     "data": {
      "text/html": [
       "<div>\n",
       "<style scoped>\n",
       "    .dataframe tbody tr th:only-of-type {\n",
       "        vertical-align: middle;\n",
       "    }\n",
       "\n",
       "    .dataframe tbody tr th {\n",
       "        vertical-align: top;\n",
       "    }\n",
       "\n",
       "    .dataframe thead th {\n",
       "        text-align: right;\n",
       "    }\n",
       "</style>\n",
       "<table border=\"1\" class=\"dataframe\">\n",
       "  <thead>\n",
       "    <tr style=\"text-align: right;\">\n",
       "      <th></th>\n",
       "      <th>qmdt_cod</th>\n",
       "      <th>geometry</th>\n",
       "    </tr>\n",
       "  </thead>\n",
       "  <tbody>\n",
       "    <tr>\n",
       "      <th>0</th>\n",
       "      <td>3212-353</td>\n",
       "      <td>POLYGON ((329132.004 7367829.458, 329125.190 7...</td>\n",
       "    </tr>\n",
       "    <tr>\n",
       "      <th>1</th>\n",
       "      <td>3212-344</td>\n",
       "      <td>POLYGON ((328601.255 7367823.210, 328594.420 7...</td>\n",
       "    </tr>\n",
       "    <tr>\n",
       "      <th>2</th>\n",
       "      <td>3212-343</td>\n",
       "      <td>POLYGON ((328070.502 7367816.960, 328063.648 7...</td>\n",
       "    </tr>\n",
       "    <tr>\n",
       "      <th>3</th>\n",
       "      <td>3211-464</td>\n",
       "      <td>POLYGON ((327539.756 7367810.622, 327532.876 7...</td>\n",
       "    </tr>\n",
       "    <tr>\n",
       "      <th>4</th>\n",
       "      <td>3211-463</td>\n",
       "      <td>POLYGON ((327008.999 7367804.285, 327002.102 7...</td>\n",
       "    </tr>\n",
       "    <tr>\n",
       "      <th>...</th>\n",
       "      <td>...</td>\n",
       "      <td>...</td>\n",
       "    </tr>\n",
       "    <tr>\n",
       "      <th>5357</th>\n",
       "      <td>3234-241</td>\n",
       "      <td>POLYGON ((331960.582 7352864.137, 331967.325 7...</td>\n",
       "    </tr>\n",
       "    <tr>\n",
       "      <th>5358</th>\n",
       "      <td>3234-224</td>\n",
       "      <td>POLYGON ((333544.473 7353459.402, 333551.152 7...</td>\n",
       "    </tr>\n",
       "    <tr>\n",
       "      <th>5359</th>\n",
       "      <td>3336-444</td>\n",
       "      <td>POLYGON ((331725.429 7373051.662, 332256.363 7...</td>\n",
       "    </tr>\n",
       "    <tr>\n",
       "      <th>5360</th>\n",
       "      <td>3336-442</td>\n",
       "      <td>POLYGON ((331718.736 7373628.441, 332249.692 7...</td>\n",
       "    </tr>\n",
       "    <tr>\n",
       "      <th>5361</th>\n",
       "      <td>3336-414</td>\n",
       "      <td>POLYGON ((331712.043 7374205.219, 332243.020 7...</td>\n",
       "    </tr>\n",
       "  </tbody>\n",
       "</table>\n",
       "<p>5362 rows × 2 columns</p>\n",
       "</div>"
      ],
      "text/plain": [
       "      qmdt_cod                                           geometry\n",
       "0     3212-353  POLYGON ((329132.004 7367829.458, 329125.190 7...\n",
       "1     3212-344  POLYGON ((328601.255 7367823.210, 328594.420 7...\n",
       "2     3212-343  POLYGON ((328070.502 7367816.960, 328063.648 7...\n",
       "3     3211-464  POLYGON ((327539.756 7367810.622, 327532.876 7...\n",
       "4     3211-463  POLYGON ((327008.999 7367804.285, 327002.102 7...\n",
       "...        ...                                                ...\n",
       "5357  3234-241  POLYGON ((331960.582 7352864.137, 331967.325 7...\n",
       "5358  3234-224  POLYGON ((333544.473 7353459.402, 333551.152 7...\n",
       "5359  3336-444  POLYGON ((331725.429 7373051.662, 332256.363 7...\n",
       "5360  3336-442  POLYGON ((331718.736 7373628.441, 332249.692 7...\n",
       "5361  3336-414  POLYGON ((331712.043 7374205.219, 332243.020 7...\n",
       "\n",
       "[5362 rows x 2 columns]"
      ]
     },
     "execution_count": 5,
     "metadata": {},
     "output_type": "execute_result"
    }
   ],
   "source": [
    "gdf_articulacao.set_crs(epsg=31983, inplace=True)"
   ]
  },
  {
   "cell_type": "code",
   "execution_count": 6,
   "metadata": {},
   "outputs": [
    {
     "data": {
      "text/plain": [
       "geometry    POLYGON ((323593.445 7386800.007, 323586.469 7...\n",
       "Name: 3315-361, dtype: geometry"
      ]
     },
     "execution_count": 6,
     "metadata": {},
     "output_type": "execute_result"
    }
   ],
   "source": [
    "gdf_articulacao.set_index('qmdt_cod').loc['3315-361']"
   ]
  },
  {
   "cell_type": "code",
   "execution_count": 7,
   "metadata": {},
   "outputs": [],
   "source": [
    "#gdf_articulacao.set_index('qmdt_cod').iloc[3315-361].geometry.exterior.coords\n",
    "coords = [[xy[0], xy[1]] for xy in gdf_articulacao.set_index('qmdt_cod').loc['3315-361'].geometry.exterior.coords]\n",
    "xy_max = np.max(np.array(coords), axis=0) \n",
    "xy_min = np.min(np.array(coords), axis=0)"
   ]
  },
  {
   "cell_type": "code",
   "execution_count": 8,
   "metadata": {},
   "outputs": [
    {
     "data": {
      "text/plain": [
       "array([[ 323593.445, 7386800.007],\n",
       "       [ 323586.469, 7387376.793],\n",
       "       [ 324117.945, 7387383.21 ],\n",
       "       [ 324124.9  , 7386806.425],\n",
       "       [ 323593.445, 7386800.007]])"
      ]
     },
     "execution_count": 8,
     "metadata": {},
     "output_type": "execute_result"
    }
   ],
   "source": [
    "np.array(coords)"
   ]
  },
  {
   "cell_type": "code",
   "execution_count": 9,
   "metadata": {},
   "outputs": [
    {
     "data": {
      "text/plain": [
       "array([1077., 1166.])"
      ]
     },
     "execution_count": 9,
     "metadata": {},
     "output_type": "execute_result"
    }
   ],
   "source": [
    "np.ceil(xy_max * 2) - np.ceil(xy_min * 2)"
   ]
  },
  {
   "cell_type": "code",
   "execution_count": 10,
   "metadata": {},
   "outputs": [
    {
     "data": {
      "text/plain": [
       "(array([ 323586.469, 7386800.007]), array([ 324124.9 , 7387383.21]))"
      ]
     },
     "execution_count": 10,
     "metadata": {},
     "output_type": "execute_result"
    }
   ],
   "source": [
    "xy_min, xy_max"
   ]
  },
  {
   "cell_type": "code",
   "execution_count": 11,
   "metadata": {},
   "outputs": [
    {
     "data": {
      "text/plain": [
       "array([ 323586., 7386800.])"
      ]
     },
     "execution_count": 11,
     "metadata": {},
     "output_type": "execute_result"
    }
   ],
   "source": [
    "np.floor(xy_min * 2)/2"
   ]
  },
  {
   "cell_type": "code",
   "execution_count": 20,
   "metadata": {},
   "outputs": [],
   "source": [
    "## GERA MDS e MDT\n",
    "\n",
    "laz = [\n",
    "    {\n",
    "        \"type\":\"readers.las\",\n",
    "        \"filename\":\"sample-data/MDS_3315-361_1000.laz\"\n",
    "    },\n",
    "    {\n",
    "        \"filename\":\"sample-result/MDS-3315-361.tiff\",\n",
    "        \"gdaldriver\":\"GTiff\",\n",
    "        \"output_type\":\"max\",\n",
    "        \"resolution\":\"0.5\",\n",
    "        \"type\": \"writers.gdal\",\n",
    "        \"gdalopts\":\"COMPRESS=ZSTD, PREDICTOR=3, BIGTIFF=YES\",\n",
    "    },\n",
    "    {\n",
    "        \"type\": \"filters.delaunay\",\n",
    "        \"where\": \"(Classification == 2)\"\n",
    "    },\n",
    "    {\n",
    "        \"type\": \"filters.faceraster\",\n",
    "        \"resolution\": 0.5,\n",
    "        \"width\": 1077,\n",
    "        \"height\": 1166,\n",
    "        \"origin_x\": 323586,\n",
    "        \"origin_y\": 7386800\n",
    "    },\n",
    "    {\n",
    "        \"filename\":\"sample-result/MDT-3315-361.tiff\",\n",
    "        \"type\": \"writers.raster\",\n",
    "        # \"filename\":f\"results/DTM-{grid_number}.tiff\",\n",
    "        \"gdaldriver\":\"GTiff\",\n",
    "        \"data_type\": \"float32\",\n",
    "        \"gdalopts\":\"COMPRESS=ZSTD, PREDICTOR=3, BIGTIFF=YES\",\n",
    "    }, \n",
    "]"
   ]
  },
  {
   "cell_type": "code",
   "execution_count": 21,
   "metadata": {},
   "outputs": [
    {
     "name": "stdout",
     "output_type": "stream",
     "text": [
      "Pipeline selected 5365968 points\n"
     ]
    }
   ],
   "source": [
    "pipeline = pdal.Pipeline(json.dumps(laz))\n",
    "n_points = pipeline.execute()\n",
    "print(f'Pipeline selected {n_points} points')"
   ]
  },
  {
   "cell_type": "code",
   "execution_count": null,
   "metadata": {},
   "outputs": [],
   "source": []
  },
  {
   "cell_type": "code",
   "execution_count": null,
   "metadata": {},
   "outputs": [],
   "source": []
  }
 ],
 "metadata": {
  "kernelspec": {
   "display_name": "pdal",
   "language": "python",
   "name": "python3"
  },
  "language_info": {
   "codemirror_mode": {
    "name": "ipython",
    "version": 3
   },
   "file_extension": ".py",
   "mimetype": "text/x-python",
   "name": "python",
   "nbconvert_exporter": "python",
   "pygments_lexer": "ipython3",
   "version": "3.10.6"
  },
  "orig_nbformat": 4
 },
 "nbformat": 4,
 "nbformat_minor": 2
}
