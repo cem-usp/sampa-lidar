{
 "cells": [
  {
   "cell_type": "code",
   "execution_count": 1,
   "metadata": {},
   "outputs": [],
   "source": [
    "import geopandas as gpd\n",
    "import glob"
   ]
  },
  {
   "cell_type": "code",
   "execution_count": 2,
   "metadata": {},
   "outputs": [],
   "source": [
    "gdf_articulacao = gpd.read_file(\"zip://data/SIRGAS_SHP_quadriculamdt.zip!/SIRGAS_SHP_quadriculamdt/\")"
   ]
  },
  {
   "cell_type": "code",
   "execution_count": 3,
   "metadata": {},
   "outputs": [],
   "source": [
    "gdf_articulacao.loc[: , 'scm_25000'] = gdf_articulacao.qmdt_cod.str[:4]"
   ]
  },
  {
   "cell_type": "code",
   "execution_count": 9,
   "metadata": {},
   "outputs": [],
   "source": [
    "# gdf_articulacao"
   ]
  },
  {
   "cell_type": "code",
   "execution_count": 13,
   "metadata": {},
   "outputs": [
    {
     "name": "stdout",
     "output_type": "stream",
     "text": [
      "0...10...20...30...40...50...60...70...80...90...100 - done.\n",
      "Input file size is 48041, 73535\n",
      "0...10...20...30...40...50...60...70...80...90...100 - done.\n",
      "0...10...20...30...40...50...60...70...80...90...100 - done.\n",
      "Input file size is 48041, 73535\n",
      "0...10...20...30...40...50...60...70...80...90...100 - done.\n",
      "0...10...20...30...40...50...60...70...80...90...100 - done.\n",
      "Input file size is 48041, 73535\n",
      "0...10...20...30...40...50...60...70...80...90...100 - done.\n",
      "0...10...20...30...40...50...60...70...80...90...100 - done.\n",
      "Input file size is 48041, 73535\n",
      "0...10...20...30...40...50...60...70...80...90...100 - done.\n"
     ]
    }
   ],
   "source": [
    "for y in [2017, 2020]:\n",
    "    for m in ['BHM', 'VHM']:\n",
    "        vrt_file = f'{m}-{y}-1m.vrt'\n",
    "        tiff_file = f'{m}-{y}-1m.tiff'\n",
    "        !gdalbuildvrt results/{y}/{vrt_file} results/{y}/{m}/*.tiff\n",
    "        !gdal_translate -tr 1.0 1.0 -co NBITS=16 -co COMPRESS=LZW -co BIGTIFF=YES results/{y}/{vrt_file} results/{y}/{tiff_file}\n",
    "        # break\n",
    "    # break"
   ]
  },
  {
   "cell_type": "code",
   "execution_count": 4,
   "metadata": {},
   "outputs": [
    {
     "name": "stdout",
     "output_type": "stream",
     "text": [
      "0...10...20...30...40...50...60...70...80...90...100 - done.\n",
      "Input file size is 48041, 73535\n",
      "0...10...20...30...40...50...60...70...80...90...100 - done.\n",
      "0...10...20...30...40...50...60...70...80...90...100 - done.\n",
      "Input file size is 48041, 73535\n",
      "0...10...20...30...40...50...60...70...80...90...100 - done.\n"
     ]
    }
   ],
   "source": [
    "for y in [2017, 2020]:\n",
    "    for m in ['MDS-sem-veg']:\n",
    "        vrt_file = f'{m}-{y}-1m.vrt'\n",
    "        tiff_file = f'{m}-{y}-1m.tiff'\n",
    "        !gdalbuildvrt results/{y}/{vrt_file} results/{y}/{m}/*.tiff\n",
    "        !gdal_translate -tr 1.0 1.0 -co NBITS=16 -co COMPRESS=LZW -co BIGTIFF=YES results/{y}/{vrt_file} results/{y}/{tiff_file}\n",
    "        # break\n",
    "    # break"
   ]
  },
  {
   "cell_type": "code",
   "execution_count": null,
   "metadata": {},
   "outputs": [],
   "source": [
    "# Calculando a diferenca de construcao aumentada com o Gdal Calc\n",
    "# 2020 - 2017, se e somente se, o Pixel de 2017 for menor que 2020\n",
    "# logical_and() e logical_or()"
   ]
  }
 ],
 "metadata": {
  "kernelspec": {
   "display_name": "pdal",
   "language": "python",
   "name": "python3"
  },
  "language_info": {
   "codemirror_mode": {
    "name": "ipython",
    "version": 3
   },
   "file_extension": ".py",
   "mimetype": "text/x-python",
   "name": "python",
   "nbconvert_exporter": "python",
   "pygments_lexer": "ipython3",
   "version": "3.10.6"
  },
  "orig_nbformat": 4
 },
 "nbformat": 4,
 "nbformat_minor": 2
}
